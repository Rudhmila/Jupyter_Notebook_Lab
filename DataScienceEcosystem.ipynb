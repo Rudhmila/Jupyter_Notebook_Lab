{
 "cells": [
  {
   "cell_type": "markdown",
   "id": "e288afa5-fa37-45f9-b70e-b525e13d3cc5",
   "metadata": {},
   "source": [
    "# Data Science Tools and Ecosystem"
   ]
  },
  {
   "cell_type": "markdown",
   "id": "395e791f-ab0b-4d42-8db3-8129bac6a15c",
   "metadata": {},
   "source": [
    "In this notebook, Data Science Tools and Ecosystem are summarized"
   ]
  },
  {
   "cell_type": "markdown",
   "id": "b5c7eee2-614a-4e2e-94d5-a769d3f8ec14",
   "metadata": {},
   "source": [
    "**Objectives:**\n",
    "- C \n",
    "- C++ \n",
    "- Python \n",
    "- Java "
   ]
  },
  {
   "cell_type": "markdown",
   "id": "20b6a09d-4d3a-4e77-98cf-54fa9d7742e7",
   "metadata": {},
   "source": [
    "Some of the popular languages that Data Scientists use are:\n",
    "1. Python\n",
    "2. R\n",
    "3. C"
   ]
  },
  {
   "cell_type": "markdown",
   "id": "cb2c8f00-03a3-4510-9e55-602365f5ac97",
   "metadata": {},
   "source": [
    "Some of the commonly used libraries used by Data Scientists include:\n",
    "1. Pandas\n",
    "2. Numpy\n",
    "3. Tensorflow"
   ]
  },
  {
   "cell_type": "markdown",
   "id": "67ad9c67-7d9b-4d52-814d-80b56e460712",
   "metadata": {},
   "source": [
    "Data Science Tools|\n",
    "------------------\n",
    "Apache Spark|\n",
    "Apache Hadoop|\n",
    "RStudio|"
   ]
  },
  {
   "cell_type": "markdown",
   "id": "03a12744-26f6-43bf-b171-0654f4c99626",
   "metadata": {},
   "source": [
    "### Below are a few example of evaluating expressions in Python"
   ]
  },
  {
   "cell_type": "markdown",
   "id": "f74629db-2a90-40ef-9bfb-16a6be026b83",
   "metadata": {},
   "source": [
    "This a simple arithmetic expression to multiply the add integers"
   ]
  },
  {
   "cell_type": "code",
   "execution_count": 23,
   "id": "122753fe-e903-45de-8916-9c1679720d79",
   "metadata": {},
   "outputs": [
    {
     "data": {
      "text/plain": [
       "17"
      ]
     },
     "execution_count": 23,
     "metadata": {},
     "output_type": "execute_result"
    }
   ],
   "source": [
    "(3*4)+5"
   ]
  },
  {
   "cell_type": "markdown",
   "id": "b7e38bee-2c51-4d0d-98f2-a770502fa007",
   "metadata": {},
   "source": [
    "This will convert 200 minutes to hours by diving by 60"
   ]
  },
  {
   "cell_type": "code",
   "execution_count": 26,
   "id": "caedcc3d-4206-47f0-b8cc-1235006dd49d",
   "metadata": {},
   "outputs": [
    {
     "data": {
      "text/plain": [
       "3.3333333333333335"
      ]
     },
     "execution_count": 26,
     "metadata": {},
     "output_type": "execute_result"
    }
   ],
   "source": [
    "200/60"
   ]
  },
  {
   "cell_type": "markdown",
   "id": "ac17bef1-9d95-4739-a5d1-cfaac09ccb2a",
   "metadata": {},
   "source": [
    "## Author\n",
    "Rudhmila Saba"
   ]
  },
  {
   "cell_type": "code",
   "execution_count": null,
   "id": "8b9c78f6-658c-463a-9fce-082ebdf7dd99",
   "metadata": {},
   "outputs": [],
   "source": []
  },
  {
   "cell_type": "code",
   "execution_count": null,
   "id": "6032da5d-f788-4d0c-a104-c4309d2414a8",
   "metadata": {},
   "outputs": [],
   "source": []
  }
 ],
 "metadata": {
  "kernelspec": {
   "display_name": "Python 3 (ipykernel)",
   "language": "python",
   "name": "python3"
  },
  "language_info": {
   "codemirror_mode": {
    "name": "ipython",
    "version": 3
   },
   "file_extension": ".py",
   "mimetype": "text/x-python",
   "name": "python",
   "nbconvert_exporter": "python",
   "pygments_lexer": "ipython3",
   "version": "3.11.5"
  }
 },
 "nbformat": 4,
 "nbformat_minor": 5
}
